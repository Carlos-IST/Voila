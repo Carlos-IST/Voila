{
 "cells": [
  {
   "cell_type": "markdown",
   "metadata": {},
   "source": [
    "# Interactive Widgets\n",
    "\n",
    "### By Carlos Santillán\n",
    "\n",
    "### Date: May 2020"
   ]
  },
  {
   "cell_type": "markdown",
   "metadata": {},
   "source": [
    "## 1. Introduction\n",
    "\n",
    "It is 1st necessary to install *ipywidgets*, this is done in the command line as follows:\n",
    "\n",
    "1. pip install ipywidgets\n",
    "\n",
    "2. jupyter nbextension enable --py widgetsnbextension\n",
    "\n",
    "**Following are the necessary imports along the way:**"
   ]
  },
  {
   "cell_type": "code",
   "execution_count": 84,
   "metadata": {},
   "outputs": [
    {
     "name": "stderr",
     "output_type": "stream",
     "text": [
      "C:\\Users\\SANTICA4\\AppData\\Local\\Continuum\\anaconda3\\lib\\site-packages\\statsmodels\\tools\\_testing.py:19: FutureWarning: pandas.util.testing is deprecated. Use the functions in the public API at pandas.testing instead.\n",
      "  import pandas.util.testing as tm\n"
     ]
    }
   ],
   "source": [
    "import ipywidgets as widgets           ### widgets\n",
    "from IPython.display import display    ### display widgets \n",
    "import seaborn as sns                  ### statistical plots\n",
    "import matplotlib.pyplot as plt        ### plots"
   ]
  },
  {
   "cell_type": "markdown",
   "metadata": {},
   "source": [
    "### 1.2 Adding a Widget\n",
    "\n",
    "First we import the module:"
   ]
  },
  {
   "cell_type": "code",
   "execution_count": 2,
   "metadata": {},
   "outputs": [],
   "source": [
    "import ipywidgets as widgets"
   ]
  },
  {
   "cell_type": "markdown",
   "metadata": {},
   "source": [
    "A useful one is a slider, for this one we can define:\n",
    "\n",
    "- minimum value\n",
    "\n",
    "- maximum value\n",
    "\n",
    "- interval size\n",
    "\n",
    "- description\n",
    "\n",
    "- initial value"
   ]
  },
  {
   "cell_type": "code",
   "execution_count": 3,
   "metadata": {},
   "outputs": [
    {
     "data": {
      "application/vnd.jupyter.widget-view+json": {
       "model_id": "dd9aef2628f3407d8c814b1027e8035a",
       "version_major": 2,
       "version_minor": 0
      },
      "text/plain": [
       "IntSlider(value=3, description='Slider:', max=10)"
      ]
     },
     "metadata": {},
     "output_type": "display_data"
    }
   ],
   "source": [
    "widgets.IntSlider( \n",
    "    min = 0,\n",
    "    max = 10,\n",
    "    step = 1,\n",
    "    description = 'Slider:',\n",
    "    value = 3\n",
    ")"
   ]
  },
  {
   "cell_type": "markdown",
   "metadata": {},
   "source": [
    "### 1.3 Displaying Widgets\n",
    "\n",
    "This is done by the *display()* function, which renders a widget in an input cell in our notebook.\n",
    "\n",
    "First we need to import *display*:"
   ]
  },
  {
   "cell_type": "code",
   "execution_count": 4,
   "metadata": {},
   "outputs": [],
   "source": [
    "from IPython.display import display"
   ]
  },
  {
   "cell_type": "markdown",
   "metadata": {},
   "source": [
    "Then we need to pass pur previously created widget as a parameter in the *display()* dunction:"
   ]
  },
  {
   "cell_type": "code",
   "execution_count": 5,
   "metadata": {},
   "outputs": [
    {
     "data": {
      "application/vnd.jupyter.widget-view+json": {
       "model_id": "a74fc270bc554c049d23a857f041c3ed",
       "version_major": 2,
       "version_minor": 0
      },
      "text/plain": [
       "IntSlider(value=3, description='Slider:', max=10)"
      ]
     },
     "metadata": {},
     "output_type": "display_data"
    }
   ],
   "source": [
    "slider = widgets.IntSlider( \n",
    "    min = 0,\n",
    "    max = 10,\n",
    "    step = 1,\n",
    "    description = 'Slider:',\n",
    "    value = 3\n",
    ")\n",
    "\n",
    "display(slider)"
   ]
  },
  {
   "cell_type": "markdown",
   "metadata": {},
   "source": [
    "### 1.4 Getting & Setting Widget´s value\n",
    "\n",
    "In order to read the value of a widget, we need to *query* its value property."
   ]
  },
  {
   "cell_type": "code",
   "execution_count": 7,
   "metadata": {},
   "outputs": [
    {
     "data": {
      "text/plain": [
       "8"
      ]
     },
     "execution_count": 7,
     "metadata": {},
     "output_type": "execute_result"
    }
   ],
   "source": [
    "slider.value"
   ]
  },
  {
   "cell_type": "markdown",
   "metadata": {},
   "source": [
    "Similarly, we can set its value:"
   ]
  },
  {
   "cell_type": "code",
   "execution_count": 10,
   "metadata": {},
   "outputs": [],
   "source": [
    "slider.value = 1"
   ]
  },
  {
   "cell_type": "markdown",
   "metadata": {},
   "source": [
    "### 1.5 Linking 2 Widgets\n",
    "\n",
    "We can synchronise the values of 2 widgets by using the *jslink()* function:"
   ]
  },
  {
   "cell_type": "code",
   "execution_count": 11,
   "metadata": {},
   "outputs": [
    {
     "data": {
      "application/vnd.jupyter.widget-view+json": {
       "model_id": "a74fc270bc554c049d23a857f041c3ed",
       "version_major": 2,
       "version_minor": 0
      },
      "text/plain": [
       "IntSlider(value=1, description='Slider:', max=10)"
      ]
     },
     "metadata": {},
     "output_type": "display_data"
    },
    {
     "data": {
      "application/vnd.jupyter.widget-view+json": {
       "model_id": "9164e6d1650047edaedf9992bec34951",
       "version_major": 2,
       "version_minor": 0
      },
      "text/plain": [
       "IntText(value=0)"
      ]
     },
     "metadata": {},
     "output_type": "display_data"
    }
   ],
   "source": [
    "text = widgets.IntText()\n",
    "\n",
    "display(slider, text)"
   ]
  },
  {
   "cell_type": "code",
   "execution_count": 13,
   "metadata": {},
   "outputs": [
    {
     "data": {
      "application/vnd.jupyter.widget-view+json": {
       "model_id": "a74fc270bc554c049d23a857f041c3ed",
       "version_major": 2,
       "version_minor": 0
      },
      "text/plain": [
       "IntSlider(value=6, description='Slider:', max=10)"
      ]
     },
     "metadata": {},
     "output_type": "display_data"
    },
    {
     "data": {
      "application/vnd.jupyter.widget-view+json": {
       "model_id": "9164e6d1650047edaedf9992bec34951",
       "version_major": 2,
       "version_minor": 0
      },
      "text/plain": [
       "IntText(value=6)"
      ]
     },
     "metadata": {},
     "output_type": "display_data"
    }
   ],
   "source": [
    "widgets.jslink((slider, 'value'), (text, 'value'))\n",
    "\n",
    "display(slider, text)"
   ]
  },
  {
   "cell_type": "markdown",
   "metadata": {},
   "source": [
    "### 1.5 Widget list\n",
    "\n",
    "We can get a full list of widgets in the documentation, or by runnning the following:"
   ]
  },
  {
   "cell_type": "code",
   "execution_count": 14,
   "metadata": {},
   "outputs": [
    {
     "name": "stdout",
     "output_type": "stream",
     "text": [
      "['Accordion', 'AppLayout', 'Audio', 'BoundedFloatText', 'BoundedIntText', 'Box', 'Button', 'ButtonStyle', 'CallbackDispatcher', 'Checkbox', 'Color', 'ColorPicker', 'Combobox', 'Controller', 'CoreWidget', 'DOMWidget', 'DatePicker', 'Datetime', 'Dropdown', 'FileUpload', 'FloatLogSlider', 'FloatProgress', 'FloatRangeSlider', 'FloatSlider', 'FloatText', 'GridBox', 'GridspecLayout', 'HBox', 'HTML', 'HTMLMath', 'Image', 'IntProgress', 'IntRangeSlider', 'IntSlider', 'IntText', 'Label', 'Layout', 'NumberFormat', 'Output', 'Password', 'Play', 'RadioButtons', 'Select', 'SelectMultiple', 'SelectionRangeSlider', 'SelectionSlider', 'SliderStyle', 'Style', 'Tab', 'Text', 'Textarea', 'ToggleButton', 'ToggleButtons', 'ToggleButtonsStyle', 'TwoByTwoLayout', 'VBox', 'Valid', 'ValueWidget', 'Video', 'Widget', '__builtins__', '__cached__', '__doc__', '__file__', '__jupyter_widgets_base_version__', '__jupyter_widgets_controls_version__', '__loader__', '__name__', '__package__', '__path__', '__protocol_version__', '__spec__', '__version__', '_handle_ipython', '_version', 'dlink', 'docutils', 'domwidget', 'fixed', 'get_ipython', 'handle_kernel', 'interact', 'interact_manual', 'interaction', 'interactive', 'interactive_output', 'jsdlink', 'jslink', 'link', 'load_ipython_extension', 'os', 'register', 'register_comm_target', 'trait_types', 'util', 'valuewidget', 'version_info', 'widget', 'widget_bool', 'widget_box', 'widget_button', 'widget_color', 'widget_controller', 'widget_core', 'widget_date', 'widget_description', 'widget_float', 'widget_int', 'widget_layout', 'widget_link', 'widget_media', 'widget_output', 'widget_selection', 'widget_selectioncontainer', 'widget_serialization', 'widget_string', 'widget_style', 'widget_templates', 'widget_upload', 'widgets']\n"
     ]
    }
   ],
   "source": [
    "print(dir(widgets))"
   ]
  },
  {
   "cell_type": "markdown",
   "metadata": {},
   "source": [
    "## 2. Handling Widget Events\n",
    "\n",
    "Widgets can respond to events which are raised when a user interacts with them. \n",
    "\n",
    "A simple example is clicking on a button, then we expect an action to take place.\n",
    "\n",
    "Depending on its specific features, each widget exposes different events. An **event handler** will be executed every time the event is fired.\n",
    "\n",
    "*Event handler is a callback function in response to an evetn, that operates asynchronously and handles the inputs received*\n",
    "\n",
    "So now we´ll create a simple button called *btn*. The *on_click* method is invoked when the button is clicked.\n",
    "\n",
    "Our event handler *btn_eventhandler* will print a short message with the button´s caption, please note that the input argument of the handler, *obj*, is the butthon object itself which allows us to access its properties.\n",
    "\n",
    "To bind the event with the handler, we assign the latter to the button´s *on_click* method:"
   ]
  },
  {
   "cell_type": "code",
   "execution_count": 15,
   "metadata": {},
   "outputs": [
    {
     "data": {
      "application/vnd.jupyter.widget-view+json": {
       "model_id": "54e91a0a761745768923963adb1a431a",
       "version_major": 2,
       "version_minor": 0
      },
      "text/plain": [
       "Button(description='BI team', style=ButtonStyle())"
      ]
     },
     "metadata": {},
     "output_type": "display_data"
    },
    {
     "name": "stdout",
     "output_type": "stream",
     "text": [
      "Hello from the BI team button!\n",
      "Hello from the BI team button!\n"
     ]
    }
   ],
   "source": [
    "btn = widgets.Button(description = 'BI team')\n",
    "display(btn)\n",
    "\n",
    "def btn_eventhandler(obj):\n",
    "    '''\n",
    "    DESC.: prints message with button´s caption\n",
    "    INPUT: widget object\n",
    "    OUTPUT: Message\n",
    "    '''\n",
    "    print('Hello from the {} button!'.format(obj.description))\n",
    "    \n",
    "btn.on_click(btn_eventhandler)"
   ]
  },
  {
   "cell_type": "markdown",
   "metadata": {},
   "source": [
    "Notice that the output appears in the same cell as the button itself. We can make this more flexible"
   ]
  },
  {
   "cell_type": "markdown",
   "metadata": {},
   "source": [
    "## 3. Controlling Widget Output\n",
    "\n",
    "We can use our widgets to **control a dataframe**. \n",
    "\n",
    "The sample dataset chose is *Number of International Visitors to London* which shows totals of London´s visitors regarding nights, visits and spend; broken down by year, quarter, purpose, duration, mode and country.\n",
    "\n",
    "First we get the data and load it into a dataframe:"
   ]
  },
  {
   "cell_type": "code",
   "execution_count": 22,
   "metadata": {},
   "outputs": [],
   "source": [
    "import pandas as pd\n",
    "import numpy as np\n",
    "\n",
    "url = \"C:/Users/SANTICA4/OneDrive - Novartis Pharma AG/Desktop/Personal/london_data.csv\"\n",
    "\n",
    "df_london = pd.read_csv(url)"
   ]
  },
  {
   "cell_type": "code",
   "execution_count": 23,
   "metadata": {},
   "outputs": [
    {
     "data": {
      "text/html": [
       "<div>\n",
       "<style scoped>\n",
       "    .dataframe tbody tr th:only-of-type {\n",
       "        vertical-align: middle;\n",
       "    }\n",
       "\n",
       "    .dataframe tbody tr th {\n",
       "        vertical-align: top;\n",
       "    }\n",
       "\n",
       "    .dataframe thead th {\n",
       "        text-align: right;\n",
       "    }\n",
       "</style>\n",
       "<table border=\"1\" class=\"dataframe\">\n",
       "  <thead>\n",
       "    <tr style=\"text-align: right;\">\n",
       "      <th></th>\n",
       "      <th>year</th>\n",
       "      <th>quarter</th>\n",
       "      <th>market</th>\n",
       "      <th>dur_stay</th>\n",
       "      <th>mode</th>\n",
       "      <th>purpose</th>\n",
       "      <th>area</th>\n",
       "      <th>Visits (000s)</th>\n",
       "      <th>Spend (pounds)</th>\n",
       "      <th>Nights (000s)</th>\n",
       "      <th>sample</th>\n",
       "    </tr>\n",
       "  </thead>\n",
       "  <tbody>\n",
       "    <tr>\n",
       "      <th>0</th>\n",
       "      <td>2002</td>\n",
       "      <td>January-March</td>\n",
       "      <td>Belgium</td>\n",
       "      <td>1-3  nights</td>\n",
       "      <td>Air</td>\n",
       "      <td>Holiday</td>\n",
       "      <td>LONDON</td>\n",
       "      <td>3.572186</td>\n",
       "      <td>0.969138</td>\n",
       "      <td>6.954456</td>\n",
       "      <td>5</td>\n",
       "    </tr>\n",
       "    <tr>\n",
       "      <th>1</th>\n",
       "      <td>2002</td>\n",
       "      <td>January-March</td>\n",
       "      <td>Belgium</td>\n",
       "      <td>1-3  nights</td>\n",
       "      <td>Air</td>\n",
       "      <td>Business</td>\n",
       "      <td>LONDON</td>\n",
       "      <td>9.284226</td>\n",
       "      <td>2.399577</td>\n",
       "      <td>12.604959</td>\n",
       "      <td>19</td>\n",
       "    </tr>\n",
       "    <tr>\n",
       "      <th>2</th>\n",
       "      <td>2002</td>\n",
       "      <td>January-March</td>\n",
       "      <td>Belgium</td>\n",
       "      <td>1-3  nights</td>\n",
       "      <td>Air</td>\n",
       "      <td>VFR</td>\n",
       "      <td>LONDON</td>\n",
       "      <td>0.877182</td>\n",
       "      <td>0.089833</td>\n",
       "      <td>2.153128</td>\n",
       "      <td>3</td>\n",
       "    </tr>\n",
       "    <tr>\n",
       "      <th>3</th>\n",
       "      <td>2002</td>\n",
       "      <td>January-March</td>\n",
       "      <td>Belgium</td>\n",
       "      <td>1-3  nights</td>\n",
       "      <td>Air</td>\n",
       "      <td>Miscellaneous</td>\n",
       "      <td>LONDON</td>\n",
       "      <td>0.163874</td>\n",
       "      <td>0.010160</td>\n",
       "      <td>0.163874</td>\n",
       "      <td>1</td>\n",
       "    </tr>\n",
       "    <tr>\n",
       "      <th>4</th>\n",
       "      <td>2002</td>\n",
       "      <td>January-March</td>\n",
       "      <td>Belgium</td>\n",
       "      <td>1-3  nights</td>\n",
       "      <td>Sea</td>\n",
       "      <td>Business</td>\n",
       "      <td>LONDON</td>\n",
       "      <td>1.648670</td>\n",
       "      <td>0.016789</td>\n",
       "      <td>1.650300</td>\n",
       "      <td>1</td>\n",
       "    </tr>\n",
       "  </tbody>\n",
       "</table>\n",
       "</div>"
      ],
      "text/plain": [
       "   year        quarter   market     dur_stay mode        purpose     area  \\\n",
       "0  2002  January-March  Belgium  1-3  nights  Air        Holiday   LONDON   \n",
       "1  2002  January-March  Belgium  1-3  nights  Air       Business   LONDON   \n",
       "2  2002  January-March  Belgium  1-3  nights  Air            VFR   LONDON   \n",
       "3  2002  January-March  Belgium  1-3  nights  Air  Miscellaneous   LONDON   \n",
       "4  2002  January-March  Belgium  1-3  nights  Sea       Business   LONDON   \n",
       "\n",
       "   Visits (000s)  Spend (pounds)  Nights (000s)  sample  \n",
       "0       3.572186        0.969138       6.954456       5  \n",
       "1       9.284226        2.399577      12.604959      19  \n",
       "2       0.877182        0.089833       2.153128       3  \n",
       "3       0.163874        0.010160       0.163874       1  \n",
       "4       1.648670        0.016789       1.650300       1  "
      ]
     },
     "execution_count": 23,
     "metadata": {},
     "output_type": "execute_result"
    }
   ],
   "source": [
    "df_london.head()"
   ]
  },
  {
   "cell_type": "markdown",
   "metadata": {},
   "source": [
    "Now suppose we want to filter the dataframe by year. We will first define a dropdown and populate it with the list of unique year values.\n",
    "\n",
    "In order to do this, we will create a generic function *unique_sorted_values_plus_ALL* which will find the unique values, sort them and then add the ALL item at the start so that the user can remove the filter:"
   ]
  },
  {
   "cell_type": "code",
   "execution_count": 24,
   "metadata": {},
   "outputs": [],
   "source": [
    "ALL = \"ALL\"\n",
    "\n",
    "def unique_sorted_values_plus_ALL(array):\n",
    "    '''\n",
    "    DESC.: takes an array of values, finds unique items, sorts them and then adds the value ALL\n",
    "    INPUT: array of values\n",
    "    OUTPUT: array w/ unique, sorted values plus ALL\n",
    "    '''\n",
    "    unique = array.unique().tolist()\n",
    "    unique.sort()\n",
    "    unique.insert(0, ALL)\n",
    "    \n",
    "    return unique"
   ]
  },
  {
   "cell_type": "markdown",
   "metadata": {},
   "source": [
    "Now we initialize the dropdown:"
   ]
  },
  {
   "cell_type": "code",
   "execution_count": 25,
   "metadata": {},
   "outputs": [],
   "source": [
    "dropdown_year = widgets.Dropdown(\n",
    "    options = unique_sorted_values_plus_ALL(df_london.year)\n",
    ")"
   ]
  },
  {
   "cell_type": "markdown",
   "metadata": {},
   "source": [
    "The dropdown widget exposes the *observe* method, which takes a function that will be invoked when the value of the dropdown changes.\n",
    "\n",
    "As such, we will create the observer handler to filter the dataframe by the selected values - note that the input argument of the handler, *change*, contains information about the changes that toook place, which allows us to access the *new* value *change.new*.\n",
    "\n",
    "If the new value is ALL, we remove de filter, otherwise we apply it:"
   ]
  },
  {
   "cell_type": "code",
   "execution_count": 26,
   "metadata": {},
   "outputs": [],
   "source": [
    "def dropdown_year_eventhandler(change):\n",
    "    '''\n",
    "    DESC.: displays dataframe applying filter\n",
    "    INPUT: change in the value of filter\n",
    "    OUTPUT: dataframe with applied filter according to value\n",
    "    '''\n",
    "    if (change.new == ALL):\n",
    "        display(df_london)\n",
    "    else:\n",
    "        display(df_london[df_london.year == change.new])"
   ]
  },
  {
   "cell_type": "markdown",
   "metadata": {},
   "source": [
    "We will then bind the handler to the dropdown:"
   ]
  },
  {
   "cell_type": "code",
   "execution_count": 27,
   "metadata": {},
   "outputs": [],
   "source": [
    "dropdown_year.observe(\n",
    "    dropdown_year_eventhandler, \n",
    "    names = 'value')"
   ]
  },
  {
   "cell_type": "code",
   "execution_count": 29,
   "metadata": {},
   "outputs": [
    {
     "data": {
      "application/vnd.jupyter.widget-view+json": {
       "model_id": "47c4e73b030942d5bbebdea43a5d09e8",
       "version_major": 2,
       "version_minor": 0
      },
      "text/plain": [
       "Dropdown(options=('ALL', '2002', '2003', '2004', '2005', '2006', '2007', '2008', '2009', '2010', '2011', '2012…"
      ]
     },
     "metadata": {},
     "output_type": "display_data"
    },
    {
     "data": {
      "text/html": [
       "<div>\n",
       "<style scoped>\n",
       "    .dataframe tbody tr th:only-of-type {\n",
       "        vertical-align: middle;\n",
       "    }\n",
       "\n",
       "    .dataframe tbody tr th {\n",
       "        vertical-align: top;\n",
       "    }\n",
       "\n",
       "    .dataframe thead th {\n",
       "        text-align: right;\n",
       "    }\n",
       "</style>\n",
       "<table border=\"1\" class=\"dataframe\">\n",
       "  <thead>\n",
       "    <tr style=\"text-align: right;\">\n",
       "      <th></th>\n",
       "      <th>year</th>\n",
       "      <th>quarter</th>\n",
       "      <th>market</th>\n",
       "      <th>dur_stay</th>\n",
       "      <th>mode</th>\n",
       "      <th>purpose</th>\n",
       "      <th>area</th>\n",
       "      <th>Visits (000s)</th>\n",
       "      <th>Spend (pounds)</th>\n",
       "      <th>Nights (000s)</th>\n",
       "      <th>sample</th>\n",
       "    </tr>\n",
       "  </thead>\n",
       "  <tbody>\n",
       "    <tr>\n",
       "      <th>33865</th>\n",
       "      <td>2012</td>\n",
       "      <td>January-March</td>\n",
       "      <td>Belgium</td>\n",
       "      <td>1-3  nights</td>\n",
       "      <td>Air</td>\n",
       "      <td>Holiday</td>\n",
       "      <td>LONDON</td>\n",
       "      <td>1.476037</td>\n",
       "      <td>0.517613</td>\n",
       "      <td>3.713900</td>\n",
       "      <td>2</td>\n",
       "    </tr>\n",
       "    <tr>\n",
       "      <th>33866</th>\n",
       "      <td>2012</td>\n",
       "      <td>January-March</td>\n",
       "      <td>Belgium</td>\n",
       "      <td>1-3  nights</td>\n",
       "      <td>Air</td>\n",
       "      <td>Business</td>\n",
       "      <td>LONDON</td>\n",
       "      <td>5.512713</td>\n",
       "      <td>2.180262</td>\n",
       "      <td>6.785043</td>\n",
       "      <td>8</td>\n",
       "    </tr>\n",
       "    <tr>\n",
       "      <th>33867</th>\n",
       "      <td>2012</td>\n",
       "      <td>January-March</td>\n",
       "      <td>Belgium</td>\n",
       "      <td>1-3  nights</td>\n",
       "      <td>Air</td>\n",
       "      <td>Miscellaneous</td>\n",
       "      <td>LONDON</td>\n",
       "      <td>1.517074</td>\n",
       "      <td>0.270735</td>\n",
       "      <td>1.517074</td>\n",
       "      <td>3</td>\n",
       "    </tr>\n",
       "    <tr>\n",
       "      <th>33868</th>\n",
       "      <td>2012</td>\n",
       "      <td>January-March</td>\n",
       "      <td>Belgium</td>\n",
       "      <td>1-3  nights</td>\n",
       "      <td>Sea</td>\n",
       "      <td>Holiday</td>\n",
       "      <td>LONDON</td>\n",
       "      <td>1.876546</td>\n",
       "      <td>0.549828</td>\n",
       "      <td>4.691370</td>\n",
       "      <td>2</td>\n",
       "    </tr>\n",
       "    <tr>\n",
       "      <th>33869</th>\n",
       "      <td>2012</td>\n",
       "      <td>January-March</td>\n",
       "      <td>Belgium</td>\n",
       "      <td>1-3  nights</td>\n",
       "      <td>Sea</td>\n",
       "      <td>Business</td>\n",
       "      <td>LONDON</td>\n",
       "      <td>3.022950</td>\n",
       "      <td>0.105486</td>\n",
       "      <td>5.131900</td>\n",
       "      <td>3</td>\n",
       "    </tr>\n",
       "    <tr>\n",
       "      <th>...</th>\n",
       "      <td>...</td>\n",
       "      <td>...</td>\n",
       "      <td>...</td>\n",
       "      <td>...</td>\n",
       "      <td>...</td>\n",
       "      <td>...</td>\n",
       "      <td>...</td>\n",
       "      <td>...</td>\n",
       "      <td>...</td>\n",
       "      <td>...</td>\n",
       "      <td>...</td>\n",
       "    </tr>\n",
       "    <tr>\n",
       "      <th>37402</th>\n",
       "      <td>2012</td>\n",
       "      <td>October-December</td>\n",
       "      <td>Other Africa</td>\n",
       "      <td>8-14 nights</td>\n",
       "      <td>Air</td>\n",
       "      <td>VFR</td>\n",
       "      <td>LONDON</td>\n",
       "      <td>2.090298</td>\n",
       "      <td>1.165625</td>\n",
       "      <td>18.254010</td>\n",
       "      <td>5</td>\n",
       "    </tr>\n",
       "    <tr>\n",
       "      <th>37403</th>\n",
       "      <td>2012</td>\n",
       "      <td>October-December</td>\n",
       "      <td>Other Africa</td>\n",
       "      <td>8-14 nights</td>\n",
       "      <td>Air</td>\n",
       "      <td>Miscellaneous</td>\n",
       "      <td>LONDON</td>\n",
       "      <td>1.042989</td>\n",
       "      <td>1.334698</td>\n",
       "      <td>12.405450</td>\n",
       "      <td>2</td>\n",
       "    </tr>\n",
       "    <tr>\n",
       "      <th>37404</th>\n",
       "      <td>2012</td>\n",
       "      <td>October-December</td>\n",
       "      <td>Other Africa</td>\n",
       "      <td>15+  nights</td>\n",
       "      <td>Air</td>\n",
       "      <td>Holiday</td>\n",
       "      <td>LONDON</td>\n",
       "      <td>1.546761</td>\n",
       "      <td>1.929341</td>\n",
       "      <td>51.009061</td>\n",
       "      <td>4</td>\n",
       "    </tr>\n",
       "    <tr>\n",
       "      <th>37405</th>\n",
       "      <td>2012</td>\n",
       "      <td>October-December</td>\n",
       "      <td>Other Africa</td>\n",
       "      <td>15+  nights</td>\n",
       "      <td>Air</td>\n",
       "      <td>Business</td>\n",
       "      <td>LONDON</td>\n",
       "      <td>1.467260</td>\n",
       "      <td>0.839446</td>\n",
       "      <td>26.794339</td>\n",
       "      <td>2</td>\n",
       "    </tr>\n",
       "    <tr>\n",
       "      <th>37406</th>\n",
       "      <td>2012</td>\n",
       "      <td>October-December</td>\n",
       "      <td>Other Africa</td>\n",
       "      <td>15+  nights</td>\n",
       "      <td>Air</td>\n",
       "      <td>VFR</td>\n",
       "      <td>LONDON</td>\n",
       "      <td>1.828057</td>\n",
       "      <td>1.910606</td>\n",
       "      <td>47.491500</td>\n",
       "      <td>4</td>\n",
       "    </tr>\n",
       "  </tbody>\n",
       "</table>\n",
       "<p>3542 rows × 11 columns</p>\n",
       "</div>"
      ],
      "text/plain": [
       "       year           quarter        market     dur_stay mode        purpose  \\\n",
       "33865  2012     January-March       Belgium  1-3  nights  Air        Holiday   \n",
       "33866  2012     January-March       Belgium  1-3  nights  Air       Business   \n",
       "33867  2012     January-March       Belgium  1-3  nights  Air  Miscellaneous   \n",
       "33868  2012     January-March       Belgium  1-3  nights  Sea        Holiday   \n",
       "33869  2012     January-March       Belgium  1-3  nights  Sea       Business   \n",
       "...     ...               ...           ...          ...  ...            ...   \n",
       "37402  2012  October-December  Other Africa  8-14 nights  Air            VFR   \n",
       "37403  2012  October-December  Other Africa  8-14 nights  Air  Miscellaneous   \n",
       "37404  2012  October-December  Other Africa  15+  nights  Air        Holiday   \n",
       "37405  2012  October-December  Other Africa  15+  nights  Air       Business   \n",
       "37406  2012  October-December  Other Africa  15+  nights  Air            VFR   \n",
       "\n",
       "          area  Visits (000s)  Spend (pounds)  Nights (000s)  sample  \n",
       "33865   LONDON       1.476037        0.517613       3.713900       2  \n",
       "33866   LONDON       5.512713        2.180262       6.785043       8  \n",
       "33867   LONDON       1.517074        0.270735       1.517074       3  \n",
       "33868   LONDON       1.876546        0.549828       4.691370       2  \n",
       "33869   LONDON       3.022950        0.105486       5.131900       3  \n",
       "...        ...            ...             ...            ...     ...  \n",
       "37402   LONDON       2.090298        1.165625      18.254010       5  \n",
       "37403   LONDON       1.042989        1.334698      12.405450       2  \n",
       "37404   LONDON       1.546761        1.929341      51.009061       4  \n",
       "37405   LONDON       1.467260        0.839446      26.794339       2  \n",
       "37406   LONDON       1.828057        1.910606      47.491500       4  \n",
       "\n",
       "[3542 rows x 11 columns]"
      ]
     },
     "metadata": {},
     "output_type": "display_data"
    }
   ],
   "source": [
    "display(dropdown_year)"
   ]
  },
  {
   "cell_type": "markdown",
   "metadata": {},
   "source": [
    "Our dropdown behaves as expected!\n",
    "\n",
    "But, there is an issue: the output of all queries is **accumulating** in this very same cell; i.e. if we select a new year from the dropdown, a new dataframe will render underneath the first one, on the same cell.\n",
    "\n",
    "The truly desired behavior though, is to **refresh** the contents of the dataframe each time."
   ]
  },
  {
   "cell_type": "markdown",
   "metadata": {},
   "source": [
    "### 3.1 Capturing the Widget Output\n",
    "\n",
    "The solution to this issue is to capture the cell output in a special kind of widget, namely *Output*, and then display it in another cell.\n",
    "\n",
    "So let´s slightly tweak the code to:\n",
    "\n",
    "- create a new instance of *Output*:"
   ]
  },
  {
   "cell_type": "code",
   "execution_count": 30,
   "metadata": {},
   "outputs": [],
   "source": [
    "output_year = widgets.Output()"
   ]
  },
  {
   "cell_type": "markdown",
   "metadata": {},
   "source": [
    "- call the *clear_output* method within the event handler to clear the previous selection on each iteration and capture the output of the dataframe in a *with* block:"
   ]
  },
  {
   "cell_type": "code",
   "execution_count": 31,
   "metadata": {},
   "outputs": [],
   "source": [
    "def dropdown_year_eventhandler(change):\n",
    "    '''\n",
    "    DESC.: displays dataframe applying filter\n",
    "    INPUT: change in the value of filter\n",
    "    OUTPUT: dataframe with applied filter according to value\n",
    "    '''\n",
    "    output_year.clear_output()\n",
    "    \n",
    "    with output_year:\n",
    "        display(df_london[df_london.year == change.new])\n",
    "    "
   ]
  },
  {
   "cell_type": "markdown",
   "metadata": {},
   "source": [
    "We will then display the output in a new cell:"
   ]
  },
  {
   "cell_type": "code",
   "execution_count": 32,
   "metadata": {},
   "outputs": [
    {
     "data": {
      "application/vnd.jupyter.widget-view+json": {
       "model_id": "a00cb86460f44f31a6be7e57c69bafdb",
       "version_major": 2,
       "version_minor": 0
      },
      "text/plain": [
       "Output()"
      ]
     },
     "metadata": {},
     "output_type": "display_data"
    }
   ],
   "source": [
    "display(output_year)"
   ]
  },
  {
   "cell_type": "markdown",
   "metadata": {},
   "source": [
    "So, our final code is as follows:"
   ]
  },
  {
   "cell_type": "code",
   "execution_count": 35,
   "metadata": {},
   "outputs": [
    {
     "data": {
      "application/vnd.jupyter.widget-view+json": {
       "model_id": "714d26954f124553b1969b3e06e66534",
       "version_major": 2,
       "version_minor": 0
      },
      "text/plain": [
       "Dropdown(options=('ALL', '2002', '2003', '2004', '2005', '2006', '2007', '2008', '2009', '2010', '2011', '2012…"
      ]
     },
     "metadata": {},
     "output_type": "display_data"
    }
   ],
   "source": [
    "dropdown_year = widgets.Dropdown(\n",
    "    options = unique_sorted_values_plus_ALL(df_london.year))\n",
    "\n",
    "output_year = widgets.Output()\n",
    "\n",
    "def dropdown_year_eventhandler(change):\n",
    "    '''\n",
    "    DESC.: displays dataframe applying filter\n",
    "    INPUT: change in the value of filter\n",
    "    OUTPUT: dataframe with applied filter according to value\n",
    "    '''\n",
    "    output_year.clear_output()\n",
    "    \n",
    "    with output_year:\n",
    "        if change.new == ALL:\n",
    "            display(df_london)\n",
    "        else:\n",
    "            display(df_london[df_london.year == change.new])\n",
    "            \n",
    "dropdown_year.observe(dropdown_year_eventhandler,\n",
    "                     names = \"value\")\n",
    "\n",
    "display(dropdown_year)\n"
   ]
  },
  {
   "cell_type": "code",
   "execution_count": 36,
   "metadata": {},
   "outputs": [
    {
     "data": {
      "application/vnd.jupyter.widget-view+json": {
       "model_id": "ab2d61e7c8824f8a863b3e3825fae22a",
       "version_major": 2,
       "version_minor": 0
      },
      "text/plain": [
       "Output()"
      ]
     },
     "metadata": {},
     "output_type": "display_data"
    }
   ],
   "source": [
    "display(output_year)"
   ]
  },
  {
   "cell_type": "markdown",
   "metadata": {},
   "source": [
    "As you can see, the output is rendered in a new cell and the filtering is working as expected!"
   ]
  },
  {
   "cell_type": "markdown",
   "metadata": {},
   "source": [
    "## 4. Linking Widget Outputs\n",
    "\n",
    "Continuing with the previous example, let´s assume we would also like to filter by *purpose* too.\n",
    "\n",
    "We can go ahead and add a similar dropdown, but you will realize that the dataframe only responds to the filter by the dropdown which has recently changed, not both.\n",
    "\n",
    "What we need to do is to **link** the 2 together so ir can work on both values (i.e. year and purpose).\n",
    "\n",
    "First we need a common output for both dropdowns:"
   ]
  },
  {
   "cell_type": "code",
   "execution_count": 56,
   "metadata": {},
   "outputs": [],
   "source": [
    "output = widgets.Output()"
   ]
  },
  {
   "cell_type": "markdown",
   "metadata": {},
   "source": [
    "Here are the 2 dropdowns:"
   ]
  },
  {
   "cell_type": "code",
   "execution_count": 57,
   "metadata": {},
   "outputs": [],
   "source": [
    "dropdown_year = widgets.Dropdown(\n",
    "    options = unique_sorted_values_plus_ALL(df_london.year))\n",
    "\n",
    "dropdown_purpose = widgets.Dropdown(\n",
    "    options = unique_sorted_values_plus_ALL(df_london.purpose))\n"
   ]
  },
  {
   "cell_type": "markdown",
   "metadata": {},
   "source": [
    "Then we create a new function: *common_filtering*, that will be called by both event handlers. This function will apply a filter on the dataframe for both, year AND purpose.\n",
    "\n",
    "We´re clearing the output, then we check if any of the values is ALL, in which case we consider that the respective filter is removed. When both filters are present, in the else statement we apply *&* operation in both filters.\n",
    "\n",
    "Finally we capture the output:"
   ]
  },
  {
   "cell_type": "code",
   "execution_count": 58,
   "metadata": {},
   "outputs": [],
   "source": [
    "def common_filtering(year, purpose):\n",
    "    '''\n",
    "    DESC.: applies both filters to dataframe\n",
    "    INPUT: year, as variable in dataframe\n",
    "    INPUT: purpose, as variable in dataframe\n",
    "    OUTPUT:\n",
    "    '''\n",
    "    output.clear_output()\n",
    "    \n",
    "    if (year == ALL) & (purpose == ALL):\n",
    "        common_filter = df_london\n",
    "    elif year == ALL:\n",
    "        common_filter = df_london[df_london.purpose == purpose]\n",
    "    elif purpose == ALL:\n",
    "        common_filter = df_london[df_london.year == year]\n",
    "    else:\n",
    "        common_filter = df_london[(df_london.year == year) & (df_london.purpose == purpose)]\n",
    "    \n",
    "    with output:\n",
    "        display(common_filter)"
   ]
  },
  {
   "cell_type": "markdown",
   "metadata": {},
   "source": [
    "We ammend the event handlers to call *common_filtering* function and pass the *change.new* value as well as the current *value* of the other dropdown:"
   ]
  },
  {
   "cell_type": "code",
   "execution_count": 65,
   "metadata": {},
   "outputs": [],
   "source": [
    "def dropdown_year_eventhandler(change):\n",
    "    '''\n",
    "    DESC.:\n",
    "    INPUT:\n",
    "    OUTPUT:\n",
    "    '''\n",
    "    common_filtering(change.new, dropdown_purpose.value)\n",
    "\n",
    "def dropdown_purpose_eventhandler(change):\n",
    "    '''\n",
    "    DESC.:\n",
    "    INPUT:\n",
    "    OUTPUT:\n",
    "    '''\n",
    "    common_filtering(dropdown_year.value, change.new)"
   ]
  },
  {
   "cell_type": "markdown",
   "metadata": {},
   "source": [
    "We bind the handlers to the dropdowns and that´s it!"
   ]
  },
  {
   "cell_type": "code",
   "execution_count": 66,
   "metadata": {},
   "outputs": [
    {
     "data": {
      "application/vnd.jupyter.widget-view+json": {
       "model_id": "1232012932484deab92ed7378285552e",
       "version_major": 2,
       "version_minor": 0
      },
      "text/plain": [
       "Dropdown(index=15, options=('ALL', '2002', '2003', '2004', '2005', '2006', '2007', '2008', '2009', '2010', '20…"
      ]
     },
     "metadata": {},
     "output_type": "display_data"
    },
    {
     "data": {
      "application/vnd.jupyter.widget-view+json": {
       "model_id": "d3aefcf0fa8948438103d8dc0ab32169",
       "version_major": 2,
       "version_minor": 0
      },
      "text/plain": [
       "Dropdown(index=3, options=('ALL', 'Business', 'Holiday', 'Miscellaneous', 'Study', 'VFR'), value='Miscellaneou…"
      ]
     },
     "metadata": {},
     "output_type": "display_data"
    }
   ],
   "source": [
    "dropdown_year.observe(dropdown_year_eventhandler,\n",
    "                     names = 'value')\n",
    "\n",
    "dropdown_purpose.observe(dropdown_purpose_eventhandler,\n",
    "                        names = 'value')\n",
    "\n",
    "display(dropdown_year)\n",
    "display(dropdown_purpose)"
   ]
  },
  {
   "cell_type": "markdown",
   "metadata": {},
   "source": [
    "Here's all the code in one block:"
   ]
  },
  {
   "cell_type": "code",
   "execution_count": 68,
   "metadata": {},
   "outputs": [
    {
     "data": {
      "application/vnd.jupyter.widget-view+json": {
       "model_id": "64bf93d4a63e42c1a4e8a02a36656d1f",
       "version_major": 2,
       "version_minor": 0
      },
      "text/plain": [
       "Dropdown(options=('ALL', '2002', '2003', '2004', '2005', '2006', '2007', '2008', '2009', '2010', '2011', '2012…"
      ]
     },
     "metadata": {},
     "output_type": "display_data"
    },
    {
     "data": {
      "application/vnd.jupyter.widget-view+json": {
       "model_id": "c495e982db8a492b90b68ce7458806b0",
       "version_major": 2,
       "version_minor": 0
      },
      "text/plain": [
       "Dropdown(options=('ALL', 'Business', 'Holiday', 'Miscellaneous', 'Study', 'VFR'), value='ALL')"
      ]
     },
     "metadata": {},
     "output_type": "display_data"
    }
   ],
   "source": [
    "output = widgets.Output()\n",
    "\n",
    "dropdown_year = widgets.Dropdown(\n",
    "    options = unique_sorted_values_plus_ALL(df_london.year))\n",
    "\n",
    "dropdown_purpose = widgets.Dropdown(\n",
    "    options = unique_sorted_values_plus_ALL(df_london.purpose))\n",
    "\n",
    "def common_filtering(year, purpose):\n",
    "    '''\n",
    "    DESC.: applies both filters to dataframe\n",
    "    INPUT: year, as variable in dataframe\n",
    "    INPUT: purpose, as variable in dataframe\n",
    "    OUTPUT:\n",
    "    '''\n",
    "    output.clear_output()\n",
    "    \n",
    "    if (year == ALL) & (purpose == ALL):\n",
    "        common_filter = df_london\n",
    "    elif year == ALL:\n",
    "        common_filter = df_london[df_london.purpose == purpose]\n",
    "    elif purpose == ALL:\n",
    "        common_filter = df_london[df_london.year == year]\n",
    "    else:\n",
    "        common_filter = df_london[(df_london.year == year) & (df_london.purpose == purpose)]\n",
    "    \n",
    "    with output:\n",
    "        display(common_filter)\n",
    "\n",
    "def dropdown_year_eventhandler(change):\n",
    "    '''\n",
    "    DESC.:\n",
    "    INPUT:\n",
    "    OUTPUT:\n",
    "    '''\n",
    "    common_filtering(change.new, dropdown_purpose.value)\n",
    "\n",
    "def dropdown_purpose_eventhandler(change):\n",
    "    '''\n",
    "    DESC.:\n",
    "    INPUT:\n",
    "    OUTPUT:\n",
    "    '''\n",
    "    common_filtering(dropdown_year.value, change.new)\n",
    "\n",
    "dropdown_year.observe(dropdown_year_eventhandler,\n",
    "                     names = 'value')\n",
    "\n",
    "dropdown_purpose.observe(dropdown_purpose_eventhandler,\n",
    "                        names = 'value')\n",
    "\n",
    "display(dropdown_year)\n",
    "display(dropdown_purpose)"
   ]
  },
  {
   "cell_type": "code",
   "execution_count": 71,
   "metadata": {},
   "outputs": [
    {
     "data": {
      "application/vnd.jupyter.widget-view+json": {
       "model_id": "bfd8f91caca34846a70d8d1ea1157b8c",
       "version_major": 2,
       "version_minor": 0
      },
      "text/plain": [
       "Output(outputs=({'output_type': 'display_data', 'data': {'text/plain': '       year           quarter        m…"
      ]
     },
     "metadata": {},
     "output_type": "display_data"
    }
   ],
   "source": [
    "display(output)"
   ]
  },
  {
   "cell_type": "code",
   "execution_count": 72,
   "metadata": {},
   "outputs": [],
   "source": [
    "output = widgets.Output()\n",
    "plot_output = widgets.Output()\n",
    "\n"
   ]
  },
  {
   "cell_type": "markdown",
   "metadata": {},
   "source": [
    "## 5. Creating a Dashboard"
   ]
  },
  {
   "cell_type": "markdown",
   "metadata": {},
   "source": [
    "We can carry on our exercise by colouring the numeric values based on a user selected value.\n",
    "\n",
    "A useful numeric widget is the *BoundedFloatText*; we can give it a *min*, *max*, initial *value* and incremental *step*:"
   ]
  },
  {
   "cell_type": "code",
   "execution_count": 73,
   "metadata": {},
   "outputs": [],
   "source": [
    "bounded_num = widgets.BoundedFloatText(\n",
    "    min = 0, \n",
    "    max = 100000, \n",
    "    value = 5, \n",
    "    step = 1)"
   ]
  },
  {
   "cell_type": "markdown",
   "metadata": {},
   "source": [
    "In order to color the dataframe cells, we will define this function:"
   ]
  },
  {
   "cell_type": "code",
   "execution_count": 74,
   "metadata": {},
   "outputs": [],
   "source": [
    "def color_ge_value(value, comparison):\n",
    "    '''\n",
    "    DESC.: Colors cells according to values\n",
    "    INPUT: value\n",
    "    INPUT: comparison\n",
    "    OUTPUT: Colored cells in dataframe\n",
    "    '''\n",
    "    if value >= comparison:\n",
    "        return 'color: red'\n",
    "    else:\n",
    "        return 'color: black'\n"
   ]
  },
  {
   "cell_type": "markdown",
   "metadata": {},
   "source": [
    "Now we can minimally ammend the *common_filtering* function to:\n",
    "\n",
    "- add a new *num* parameter\n",
    "\n",
    "- apply the styling by calling the *color_ge_value* function for the 3 numeric columns\n"
   ]
  },
  {
   "cell_type": "code",
   "execution_count": null,
   "metadata": {},
   "outputs": [],
   "source": [
    "def common_filtering(year, purpose, num):"
   ]
  },
  {
   "cell_type": "code",
   "execution_count": null,
   "metadata": {},
   "outputs": [],
   "source": [
    "with output:\n",
    "    display(common_filter.style.applymap(\n",
    "                            lambda x: color_ge_value(x, num),\n",
    "                            subset = ['visits', 'spend', 'nights']))"
   ]
  },
  {
   "cell_type": "markdown",
   "metadata": {},
   "source": [
    "Also, the existing event-handlers need to me adjusted to pass the *bounded_num.value*:"
   ]
  },
  {
   "cell_type": "code",
   "execution_count": null,
   "metadata": {},
   "outputs": [],
   "source": [
    "def dropdown_year_eventhandler(change):\n",
    "    common_filtering(change.new, dropdown_purpose.value,\n",
    "                     bounded_num.value)\n",
    "\n",
    "def dropdown_purpose_eventhandler(change):\n",
    "    common_filtering(dropdown_year.value, change.new, \n",
    "                     bounded_num.value)"
   ]
  },
  {
   "cell_type": "markdown",
   "metadata": {},
   "source": [
    "And finally we can plug-in the event-handler of the new widget:"
   ]
  },
  {
   "cell_type": "code",
   "execution_count": null,
   "metadata": {},
   "outputs": [],
   "source": [
    "def bounded_num_eventhandler(change):\n",
    "    common_filtering(dropdown_year.value, dropdown_purpose.value, \n",
    "                     change.new)\n",
    "    \n",
    "bounded_num.observe(bounded_num_eventhandler, names='value')"
   ]
  },
  {
   "cell_type": "markdown",
   "metadata": {},
   "source": [
    "So, in a single code we get:"
   ]
  },
  {
   "cell_type": "code",
   "execution_count": 81,
   "metadata": {},
   "outputs": [
    {
     "data": {
      "application/vnd.jupyter.widget-view+json": {
       "model_id": "7add746d338c408fb3924246adce8b39",
       "version_major": 2,
       "version_minor": 0
      },
      "text/plain": [
       "Dropdown(options=('ALL', '2002', '2003', '2004', '2005', '2006', '2007', '2008', '2009', '2010', '2011', '2012…"
      ]
     },
     "metadata": {},
     "output_type": "display_data"
    },
    {
     "data": {
      "application/vnd.jupyter.widget-view+json": {
       "model_id": "153f46d3ee154693bf86fb2846be0a63",
       "version_major": 2,
       "version_minor": 0
      },
      "text/plain": [
       "Dropdown(options=('ALL', 'Business', 'Holiday', 'Miscellaneous', 'Study', 'VFR'), value='ALL')"
      ]
     },
     "metadata": {},
     "output_type": "display_data"
    },
    {
     "data": {
      "application/vnd.jupyter.widget-view+json": {
       "model_id": "3e4e52d7c1394d3f8ee6bf0101756d92",
       "version_major": 2,
       "version_minor": 0
      },
      "text/plain": [
       "BoundedFloatText(value=5.0, description='Number:', max=100000.0, step=1.0)"
      ]
     },
     "metadata": {},
     "output_type": "display_data"
    }
   ],
   "source": [
    "output = widgets.Output()\n",
    "\n",
    "dropdown_year = widgets.Dropdown(\n",
    "    options = unique_sorted_values_plus_ALL(df_london.year))\n",
    "\n",
    "dropdown_purpose = widgets.Dropdown(\n",
    "    options = unique_sorted_values_plus_ALL(df_london.purpose))\n",
    "\n",
    "bounded_num = widgets.BoundedFloatText(\n",
    "    min = 0, \n",
    "    max = 100000, \n",
    "    value = 5, step = 1, \n",
    "    description = 'Number:')\n",
    "\n",
    "def common_filtering(year, purpose, num):\n",
    "    '''\n",
    "    DESC.: applies both filters to dataframe\n",
    "    INPUT: year, as variable in dataframe\n",
    "    INPUT: purpose, as variable in dataframe\n",
    "    INPUT: num, as a number to be displayed\n",
    "    OUTPUT:\n",
    "    '''\n",
    "    output.clear_output()\n",
    "    \n",
    "    if (year == ALL) & (purpose == ALL):\n",
    "        common_filter = df_london\n",
    "    elif year == ALL:\n",
    "        common_filter = df_london[df_london.purpose == purpose]\n",
    "    elif purpose == ALL:\n",
    "        common_filter = df_london[df_london.year == year]\n",
    "    else:\n",
    "        common_filter = df_london[(df_london.year == year) & (df_london.purpose == purpose)]\n",
    "    \n",
    "    with output:\n",
    "        display(common_filter.style.applymap(\n",
    "            lambda x: color_ge_value(x, num),\n",
    "            subset = ['Visits (000s)', 'Spend (pounds)', 'Nights (000s)']))\n",
    "\n",
    "def dropdown_year_eventhandler(change):\n",
    "    '''\n",
    "    DESC.:\n",
    "    INPUT:\n",
    "    OUTPUT:\n",
    "    '''\n",
    "    common_filtering(change.new, dropdown_purpose.value, bounded_num.value)\n",
    "\n",
    "def dropdown_purpose_eventhandler(change):\n",
    "    '''\n",
    "    DESC.:\n",
    "    INPUT:\n",
    "    OUTPUT:\n",
    "    '''\n",
    "    common_filtering(dropdown_year.value, change.new, bounded_num.value)\n",
    "    \n",
    "def bounded_num_eventhandler(change):\n",
    "    '''\n",
    "    DESC.:\n",
    "    INPUT:\n",
    "    OUTPUT:\n",
    "    '''\n",
    "    common_filtering(dropdown_year.value, dropdown_purpose.value, change.new)\n",
    "\n",
    "dropdown_year.observe(dropdown_year_eventhandler,\n",
    "                     names = 'value')\n",
    "\n",
    "dropdown_purpose.observe(dropdown_purpose_eventhandler,\n",
    "                        names = 'value')\n",
    "\n",
    "bounded_num.observe(bounded_num_eventhandler,\n",
    "                    names = 'value')\n",
    "\n",
    "display(dropdown_year)\n",
    "display(dropdown_purpose)\n",
    "display(bounded_num)"
   ]
  },
  {
   "cell_type": "code",
   "execution_count": 83,
   "metadata": {},
   "outputs": [
    {
     "data": {
      "application/vnd.jupyter.widget-view+json": {
       "model_id": "a3259eff8f2c46a7af3b8a791b3c8869",
       "version_major": 2,
       "version_minor": 0
      },
      "text/plain": [
       "Output()"
      ]
     },
     "metadata": {},
     "output_type": "display_data"
    }
   ],
   "source": [
    "display(output)"
   ]
  },
  {
   "cell_type": "markdown",
   "metadata": {},
   "source": [
    "### 5.1 Plotting\n",
    "\n",
    "Now, we will plot the density of the number of visits, which in *seaborn* can be done with KDE (Kernel Density Estimation).\n",
    "\n",
    "First we import the libraries:"
   ]
  },
  {
   "cell_type": "code",
   "execution_count": 85,
   "metadata": {},
   "outputs": [],
   "source": [
    "import seaborn as sns\n",
    "import matplotlib.pyplot as plt"
   ]
  },
  {
   "cell_type": "markdown",
   "metadata": {},
   "source": [
    "We can then store the plot in a new output variable:"
   ]
  },
  {
   "cell_type": "code",
   "execution_count": 86,
   "metadata": {},
   "outputs": [],
   "source": [
    "plot_output = widgets.Output()"
   ]
  },
  {
   "cell_type": "markdown",
   "metadata": {},
   "source": [
    "Again, we need to ammend the *common_filtering* function to plot the new diagram.\n",
    "\n",
    "- First, we clear the output"
   ]
  },
  {
   "cell_type": "code",
   "execution_count": null,
   "metadata": {},
   "outputs": [],
   "source": [
    "plot_output.clear_output()"
   ]
  },
  {
   "cell_type": "markdown",
   "metadata": {},
   "source": [
    "- Then we call the *kdeplot* method of seaborn by pasing the number of visits:"
   ]
  },
  {
   "cell_type": "code",
   "execution_count": null,
   "metadata": {},
   "outputs": [],
   "source": [
    "with plot_output:\n",
    "    sns.kdeplot(common_filter['Visits (000s)'],\n",
    "                shade = True)\n",
    "    plt.show"
   ]
  },
  {
   "cell_type": "markdown",
   "metadata": {},
   "source": [
    "- and lastly, we display the outputs in a new cell:"
   ]
  },
  {
   "cell_type": "code",
   "execution_count": null,
   "metadata": {},
   "outputs": [],
   "source": [
    "display(output)\n",
    "display(plot_output)"
   ]
  },
  {
   "cell_type": "markdown",
   "metadata": {},
   "source": [
    "In a snippet of code:"
   ]
  },
  {
   "cell_type": "code",
   "execution_count": 87,
   "metadata": {},
   "outputs": [
    {
     "data": {
      "application/vnd.jupyter.widget-view+json": {
       "model_id": "67098b183fc1481aaf7789eb52097da3",
       "version_major": 2,
       "version_minor": 0
      },
      "text/plain": [
       "Dropdown(options=('ALL', '2002', '2003', '2004', '2005', '2006', '2007', '2008', '2009', '2010', '2011', '2012…"
      ]
     },
     "metadata": {},
     "output_type": "display_data"
    },
    {
     "data": {
      "application/vnd.jupyter.widget-view+json": {
       "model_id": "750039e8ad7e4ee9a13f89eb9801f86b",
       "version_major": 2,
       "version_minor": 0
      },
      "text/plain": [
       "Dropdown(options=('ALL', 'Business', 'Holiday', 'Miscellaneous', 'Study', 'VFR'), value='ALL')"
      ]
     },
     "metadata": {},
     "output_type": "display_data"
    },
    {
     "data": {
      "application/vnd.jupyter.widget-view+json": {
       "model_id": "64b8949aa8f34eb6b1f98b6a84cae2cb",
       "version_major": 2,
       "version_minor": 0
      },
      "text/plain": [
       "BoundedFloatText(value=5.0, description='Number:', max=100000.0, step=1.0)"
      ]
     },
     "metadata": {},
     "output_type": "display_data"
    }
   ],
   "source": [
    "output = widgets.Output()\n",
    "plot_output = widgets.Output()\n",
    "\n",
    "dropdown_year = widgets.Dropdown(\n",
    "    options = unique_sorted_values_plus_ALL(df_london.year))\n",
    "\n",
    "dropdown_purpose = widgets.Dropdown(\n",
    "    options = unique_sorted_values_plus_ALL(df_london.purpose))\n",
    "\n",
    "bounded_num = widgets.BoundedFloatText(\n",
    "    min = 0, \n",
    "    max = 100000, \n",
    "    value = 5, step = 1, \n",
    "    description = 'Number:')\n",
    "\n",
    "def common_filtering(year, purpose, num):\n",
    "    '''\n",
    "    DESC.: applies both filters to dataframe\n",
    "    INPUT: year, as variable in dataframe\n",
    "    INPUT: purpose, as variable in dataframe\n",
    "    INPUT: num, as a number to be displayed\n",
    "    OUTPUT:\n",
    "    '''\n",
    "    output.clear_output()\n",
    "    plot_output.clear_output()\n",
    "    \n",
    "    if (year == ALL) & (purpose == ALL):\n",
    "        common_filter = df_london\n",
    "    elif year == ALL:\n",
    "        common_filter = df_london[df_london.purpose == purpose]\n",
    "    elif purpose == ALL:\n",
    "        common_filter = df_london[df_london.year == year]\n",
    "    else:\n",
    "        common_filter = df_london[(df_london.year == year) & (df_london.purpose == purpose)]\n",
    "    \n",
    "    with output:\n",
    "        display(common_filter.style.applymap(\n",
    "            lambda x: color_ge_value(x, num),\n",
    "            subset = ['Visits (000s)', 'Spend (pounds)', 'Nights (000s)']))\n",
    "\n",
    "    with plot_output:\n",
    "        sns.kdeplot(common_filter['Visits (000s)'],\n",
    "                    shade = True)\n",
    "        plt.show()\n",
    "    \n",
    "def dropdown_year_eventhandler(change):\n",
    "    '''\n",
    "    DESC.:\n",
    "    INPUT:\n",
    "    OUTPUT:\n",
    "    '''\n",
    "    common_filtering(change.new, dropdown_purpose.value, bounded_num.value)\n",
    "\n",
    "def dropdown_purpose_eventhandler(change):\n",
    "    '''\n",
    "    DESC.:\n",
    "    INPUT:\n",
    "    OUTPUT:\n",
    "    '''\n",
    "    common_filtering(dropdown_year.value, change.new, bounded_num.value)\n",
    "    \n",
    "def bounded_num_eventhandler(change):\n",
    "    '''\n",
    "    DESC.:\n",
    "    INPUT:\n",
    "    OUTPUT:\n",
    "    '''\n",
    "    common_filtering(dropdown_year.value, dropdown_purpose.value, change.new)\n",
    "\n",
    "    \n",
    "dropdown_year.observe(dropdown_year_eventhandler,\n",
    "                     names = 'value')\n",
    "\n",
    "dropdown_purpose.observe(dropdown_purpose_eventhandler,\n",
    "                        names = 'value')\n",
    "\n",
    "bounded_num.observe(bounded_num_eventhandler,\n",
    "                    names = 'value')\n",
    "\n",
    "display(dropdown_year)\n",
    "display(dropdown_purpose)\n",
    "display(bounded_num)"
   ]
  },
  {
   "cell_type": "code",
   "execution_count": 88,
   "metadata": {},
   "outputs": [
    {
     "data": {
      "application/vnd.jupyter.widget-view+json": {
       "model_id": "75c93c2133f94bada53b6248edec0d00",
       "version_major": 2,
       "version_minor": 0
      },
      "text/plain": [
       "Output()"
      ]
     },
     "metadata": {},
     "output_type": "display_data"
    },
    {
     "data": {
      "application/vnd.jupyter.widget-view+json": {
       "model_id": "33dfbda9552d433eb982d34522268d1e",
       "version_major": 2,
       "version_minor": 0
      },
      "text/plain": [
       "Output()"
      ]
     },
     "metadata": {},
     "output_type": "display_data"
    }
   ],
   "source": [
    "display(output)\n",
    "display(plot_output)"
   ]
  },
  {
   "cell_type": "markdown",
   "metadata": {},
   "source": [
    "## 6. Dashboard Layout\n",
    "\n",
    "We can optimize the look of our dashboard by arranging the input widgets horizontally.\n",
    "\n",
    "The *HBox* will add widgets to it one at a time from left-to-right"
   ]
  },
  {
   "cell_type": "code",
   "execution_count": 90,
   "metadata": {},
   "outputs": [
    {
     "data": {
      "application/vnd.jupyter.widget-view+json": {
       "model_id": "9a546b26cdbb474382987566957c0a85",
       "version_major": 2,
       "version_minor": 0
      },
      "text/plain": [
       "HBox(children=(Dropdown(index=4, options=('ALL', '2002', '2003', '2004', '2005', '2006', '2007', '2008', '2009…"
      ]
     },
     "metadata": {},
     "output_type": "display_data"
    }
   ],
   "source": [
    "input_widgets = widgets.HBox(\n",
    "    [dropdown_year, dropdown_purpose, bounded_num])\n",
    "\n",
    "display(input_widgets)"
   ]
  },
  {
   "cell_type": "markdown",
   "metadata": {},
   "source": [
    "We then can create a container for the output and *Tab* is great for this. The 1st tab will host the dataframe and the 2nd one the graph:\n"
   ]
  },
  {
   "cell_type": "code",
   "execution_count": 91,
   "metadata": {},
   "outputs": [
    {
     "data": {
      "application/vnd.jupyter.widget-view+json": {
       "model_id": "ce18428094d54fdc96c1dd3ff23b651d",
       "version_major": 2,
       "version_minor": 0
      },
      "text/plain": [
       "Tab(children=(Output(outputs=({'output_type': 'display_data', 'data': {'text/plain': '<pandas.io.formats.style…"
      ]
     },
     "metadata": {},
     "output_type": "display_data"
    }
   ],
   "source": [
    "tab = widgets.Tab([output, plot_output])\n",
    "tab.set_title(0, 'Dataset Exploration')\n",
    "tab.set_title(1, 'KDE Plot')\n",
    "\n",
    "display(tab)"
   ]
  },
  {
   "cell_type": "markdown",
   "metadata": {},
   "source": [
    "And finally we can stack the input widgets and the tab on top of each other with a *VBox*:"
   ]
  },
  {
   "cell_type": "code",
   "execution_count": 92,
   "metadata": {},
   "outputs": [
    {
     "data": {
      "application/vnd.jupyter.widget-view+json": {
       "model_id": "185115b1de03481386b9e56a33fd6c9b",
       "version_major": 2,
       "version_minor": 0
      },
      "text/plain": [
       "VBox(children=(HBox(children=(Dropdown(index=4, options=('ALL', '2002', '2003', '2004', '2005', '2006', '2007'…"
      ]
     },
     "metadata": {},
     "output_type": "display_data"
    }
   ],
   "source": [
    "dashboard = widgets.VBox([input_widgets, tab])\n",
    "\n",
    "display(dashboard)"
   ]
  },
  {
   "cell_type": "markdown",
   "metadata": {},
   "source": [
    "Notice that it feels a bit jammed, so as a last step, we willpolish our dashboard by adding some space. We will define a *Layout* giving 50px margin between the items."
   ]
  },
  {
   "cell_type": "code",
   "execution_count": 93,
   "metadata": {},
   "outputs": [],
   "source": [
    "item_layout = widgets.Layout(margin = '0 0 50px 0')"
   ]
  },
  {
   "cell_type": "markdown",
   "metadata": {},
   "source": [
    "And we will call this layout for each item:"
   ]
  },
  {
   "cell_type": "code",
   "execution_count": 97,
   "metadata": {},
   "outputs": [],
   "source": [
    "input_widgets = widgets.HBox(\n",
    "    [dropdown_year, dropdown_purpose, bounded_num],\n",
    "    layout = item_layout)\n",
    "\n",
    "tab = widgets.Tab(\n",
    "    [output, plot_output],\n",
    "    layout = item_layout)\n",
    "tab.set_title(0, 'Dataset Exploration')\n",
    "tab.set_title(1, 'KDE Plot')"
   ]
  },
  {
   "cell_type": "markdown",
   "metadata": {},
   "source": [
    "And so our final dashboard looks like this:"
   ]
  },
  {
   "cell_type": "code",
   "execution_count": 98,
   "metadata": {},
   "outputs": [
    {
     "data": {
      "application/vnd.jupyter.widget-view+json": {
       "model_id": "8700bac394a24e65b9a28dfe97c37580",
       "version_major": 2,
       "version_minor": 0
      },
      "text/plain": [
       "VBox(children=(HBox(children=(Dropdown(index=4, options=('ALL', '2002', '2003', '2004', '2005', '2006', '2007'…"
      ]
     },
     "metadata": {},
     "output_type": "display_data"
    }
   ],
   "source": [
    "dashboard = widgets.VBox([input_widgets, tab])\n",
    "\n",
    "display(dashboard)"
   ]
  },
  {
   "cell_type": "code",
   "execution_count": null,
   "metadata": {},
   "outputs": [],
   "source": []
  }
 ],
 "metadata": {
  "kernelspec": {
   "display_name": "Python 3",
   "language": "python",
   "name": "python3"
  },
  "language_info": {
   "codemirror_mode": {
    "name": "ipython",
    "version": 3
   },
   "file_extension": ".py",
   "mimetype": "text/x-python",
   "name": "python",
   "nbconvert_exporter": "python",
   "pygments_lexer": "ipython3",
   "version": "3.7.4"
  }
 },
 "nbformat": 4,
 "nbformat_minor": 2
}
